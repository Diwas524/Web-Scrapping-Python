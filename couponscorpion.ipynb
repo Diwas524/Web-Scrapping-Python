{
 "cells": [
  {
   "cell_type": "code",
   "execution_count": 2,
   "metadata": {},
   "outputs": [
    {
     "name": "stdout",
     "output_type": "stream",
     "text": [
      "Enter URL: https://couponscorpion.com/development/object-oriented-programming-in-c-interview-preparation/\n",
      "Enter free course link: https://www.udemy.com/course/cracking-cpp-interview/?couponCode=CPPOOPFREE5\n",
      "<Response [201]>\n"
     ]
    }
   ],
   "source": [
    "def shortenurl():\n",
    " \n",
    "\n",
    "    import requests\n",
    "    from bs4 import BeautifulSoup\n",
    "    import re\n",
    "    import json\n",
    "    import base64\n",
    " \n",
    "    # url of the website\n",
    "    headers = {'User-Agent': 'Mozilla/5.0 (X11; Linux x86_64) '\\\n",
    "           'AppleWebKit/537.36 (KHTML, like Gecko) '\\\n",
    "           'Chrome/75.0.3770.80 Safari/537.36'}\n",
    "    docs = input(\"Enter URL: \")\n",
    "    aw = input(\"Enter free course link: \")\n",
    "    \n",
    " \n",
    "    # getting response object\n",
    "    res = requests.get(docs, headers=headers)\n",
    " \n",
    "    # Initialize the object with the document\n",
    "    soup = BeautifulSoup(res.content, \"html.parser\")\n",
    "\n",
    "\n",
    "    #Title Text \n",
    "    title = soup.title.text\n",
    "    title=(str(title).replace(\"100% Off |\", \"[Coupon] | \"))\n",
    "    tag = soup.body\n",
    "\n",
    "    import re as regex\n",
    "    \n",
    "\n",
    "\n",
    "\n",
    "    #Featured Image Link\n",
    "    #q=(soup.find_all(\"img\")[2]) # 0th is site logo & 1st is featured image\n",
    "    ss = ['\"https://aihubprojects.com/wp-content/uploads/2021/09/all-course-free-.png\" ']\n",
    "    a=(str(ss).replace(\"['\", \"\")).replace(\"']\", \"\")\n",
    "    a= \"<img src=\"+a+\" width=\\\"500\\\" height=\\\"281\\\">\"\n",
    "    \n",
    "\n",
    "\n",
    "    \n",
    "            \n",
    "    \n",
    "    w=title+\"<br>\"+a + \" <br>\"\n",
    "    c=0\n",
    "    for string in tag.strings:\n",
    "    #print(str(string))\n",
    "    #ass=ass+1\n",
    "    #print (ass)\n",
    "    #if ass==10:\n",
    "        #break\n",
    "    #End of text extraction from body\n",
    "        if \"Author\" in string:\n",
    "            break\n",
    "        \n",
    "    #start of text extraction from body\n",
    "        if \"What you’ll learn\" in string:\n",
    "            c=2\n",
    "        if c==2: #we get 2 Description, start scrapping from 2nd description\n",
    "            if string.rstrip():\n",
    "                w=w+(\"<p>\"+string+\"<p>\")\n",
    "    w=w + \"<br>\" + \"<a href=\"+aw+\" target=\\\"_blank\\\"><button style=\\\"background-color: #00008B;\\\">ENROLL NOW</button></a>\"\n",
    "    \n",
    "            \n",
    "    user = 'admin'\n",
    "    pythonapp = 'pwTY KpuG 8BJp oLh5 JbNq ZzbT'\n",
    "    url = 'https://allcoursefree.com/wp-json/wp/v2'\n",
    "    credentials = user + ':' + pythonapp\n",
    "\n",
    "    token = base64.b64encode(credentials.encode())\n",
    "    #aa=\"token\"\n",
    "    headers = {'Authorization': 'Basic ' + token.decode('utf-8')}\n",
    "    post = {\n",
    "            'title': title,\n",
    "       \n",
    "            'status': 'publish',\n",
    "            'content': w,\n",
    "             'category':'100-off',\n",
    "            \n",
    "       \n",
    "        \n",
    "            'format': 'standard'\n",
    "            }\n",
    "    r=requests.post(url + '/posts', headers=headers, json=post)   #503 error \n",
    "    return r\n",
    "\n",
    "print(shortenurl())"
   ]
  },
  {
   "cell_type": "code",
   "execution_count": 9,
   "metadata": {},
   "outputs": [
    {
     "name": "stdout",
     "output_type": "stream",
     "text": [
      "Enter URL: https://couponscorpion.com/it-software/ms-word-for-novice-to-expert-2021-updated/\n",
      "[<a class=\"logo_image\" href=\"https://couponscorpion.com\"><img alt=\"Coupon Scorpion\" class=\"ezlazyload\" data-ezsrc=\"https://couponscorpion.com/wp-content/uploads/2020/03/coupon-scorpion-logo-v5-255.png\" ezimgfmt=\"rs rscb100 src ng ngcb100\" height=\"65\" src=\"data:image/svg+xml,%3Csvg xmlns=%22http://www.w3.org/2000/svg%22 width=%22255%22 height=%2265%22%3E%3C/svg%3E\" width=\"255\"/></a>, <a class=\"udemy-banner\" href=\"https://couponscorpion.com/go/udemy\" target=\"_blank\"><img alt=\"Udemy Courses\" border=\"0\" height=\"90\" src=\"https://csfilestorage.b-cdn.net/b-728x90.png\" width=\"728\"/></a>, <a href=\"https://couponscorpion.com\">Latest Offers</a>, <a href=\"https://couponscorpion.com/category/100-off-coupons/\">100% Off Coupons</a>, <a href=\"https://couponscorpion.com/category/free100-discount/\">Free Courses</a>, <a href=\"javascript:void(0);\">Categories</a>, <a href=\"https://couponscorpion.com/category/business/\">Business</a>, <a href=\"https://couponscorpion.com/category/design/\">Design</a>, <a href=\"https://couponscorpion.com/category/development/\">Development</a>, <a href=\"https://couponscorpion.com/category/finance-accounting/\">Finance &amp; Accounting</a>, <a href=\"https://couponscorpion.com/category/health-fitness/\">Health &amp; Fitness</a>, <a href=\"https://couponscorpion.com/category/it-software/\">IT &amp; Software</a>, <a href=\"https://couponscorpion.com/category/lifestyle/\">Lifestyle</a>, <a href=\"https://couponscorpion.com/category/marketing/\">Marketing</a>, <a href=\"https://couponscorpion.com/category/music/\">Music</a>, <a href=\"https://couponscorpion.com/category/office-productivity/\">Office Productivity</a>, <a href=\"https://couponscorpion.com/category/personal-development/\">Personal Development</a>, <a href=\"https://couponscorpion.com/category/photography-video/\">Photography &amp; Video</a>, <a href=\"https://couponscorpion.com/category/teaching-academics/\">Teaching &amp; Academics</a>, <a href=\"https://couponscorpion.com/contact/\">Contact</a>, <a class=\"icon-search-onclick icon-in-main-menu menu-item-one-line\"></a>, <a href=\"https://couponscorpion.com/\">Home</a>, <a href=\"https://couponscorpion.com/category/it-software/\">IT &amp; Software</a>, <a class=\"cat\" href=\"https://couponscorpion.com/category/100-off-coupons/\" title=\"View all posts in 100% Off Coupon\">100% Off Coupon</a>, <a class=\"nc_tweet swp_share_link\" data-link=\"https://twitter.com/intent/tweet?text=Ms+Word+For+Novice+To+Expert+%3A+2021+Updated&amp;url=https%3A%2F%2Fcouponscorpion.com%2Fit-software%2Fms-word-for-novice-to-expert-2021-updated%2F\" href=\"https://twitter.com/intent/tweet?text=Ms+Word+For+Novice+To+Expert+%3A+2021+Updated&amp;url=https%3A%2F%2Fcouponscorpion.com%2Fit-software%2Fms-word-for-novice-to-expert-2021-updated%2F\" rel=\"nofollow noreferrer noopener\" target=\"_blank\"><span class=\"swp_count swp_hide\"><span class=\"iconFiller\"><span class=\"spaceManWilly\"><i class=\"sw swp_twitter_icon\"></i><span class=\"swp_share\">Tweet</span></span></span></span></a>, <a class=\"nc_tweet swp_share_link\" data-link=\"https://www.facebook.com/share.php?u=https%3A%2F%2Fcouponscorpion.com%2Fit-software%2Fms-word-for-novice-to-expert-2021-updated%2F\" href=\"https://www.facebook.com/share.php?u=https%3A%2F%2Fcouponscorpion.com%2Fit-software%2Fms-word-for-novice-to-expert-2021-updated%2F\" rel=\"nofollow noreferrer noopener\" target=\"_blank\"><span class=\"swp_count swp_hide\"><span class=\"iconFiller\"><span class=\"spaceManWilly\"><i class=\"sw swp_facebook_icon\"></i><span class=\"swp_share\">Share</span></span></span></span></a>, <a class=\"btn_offer_block re_track_btn\" href=\"javascript:void(0)\" rel=\"nofollow\" style=\"color:#ccc!important\" target=\"_blank\">GET COUPON CODE</a>, <a href=\"https://couponscorpion.com/affiliate-disclosure/\"> Read our disclosure.</a>, <a class=\"nc_tweet swp_share_link\" data-link=\"https://twitter.com/intent/tweet?text=Ms+Word+For+Novice+To+Expert+%3A+2021+Updated&amp;url=https%3A%2F%2Fcouponscorpion.com%2Fit-software%2Fms-word-for-novice-to-expert-2021-updated%2F\" href=\"https://twitter.com/intent/tweet?text=Ms+Word+For+Novice+To+Expert+%3A+2021+Updated&amp;url=https%3A%2F%2Fcouponscorpion.com%2Fit-software%2Fms-word-for-novice-to-expert-2021-updated%2F\" rel=\"nofollow noreferrer noopener\" target=\"_blank\"><span class=\"swp_count swp_hide\"><span class=\"iconFiller\"><span class=\"spaceManWilly\"><i class=\"sw swp_twitter_icon\"></i><span class=\"swp_share\">Tweet</span></span></span></span></a>, <a class=\"nc_tweet swp_share_link\" data-link=\"https://www.facebook.com/share.php?u=https%3A%2F%2Fcouponscorpion.com%2Fit-software%2Fms-word-for-novice-to-expert-2021-updated%2F\" href=\"https://www.facebook.com/share.php?u=https%3A%2F%2Fcouponscorpion.com%2Fit-software%2Fms-word-for-novice-to-expert-2021-updated%2F\" rel=\"nofollow noreferrer noopener\" target=\"_blank\"><span class=\"swp_count swp_hide\"><span class=\"iconFiller\"><span class=\"spaceManWilly\"><i class=\"sw swp_facebook_icon\"></i><span class=\"swp_share\">Share</span></span></span></span></a>, <a href=\"https://couponscorpion.com/development/javascript-ultimate-course/\"><img alt=\"JavaScript Ultimate Course\" class=\"ezlazyload\" data-ezsrc=\"https://couponscorpion.com/wp-content/uploads/thumbs_dir/javascript-ultimate-course-71kl32koobdffxs2sclc7si3muqok66e3mwr1u0zpay.jpg\" ezimgfmt=\"rs rscb100 src ng ngcb100\" height=\"90\" src=\"data:image/svg+xml,%3Csvg xmlns=%22http://www.w3.org/2000/svg%22 width=%22123%22 height=%2290%22%3E%3C/svg%3E\" width=\"123\"/></a>, <a href=\"https://couponscorpion.com/development/javascript-ultimate-course/\">JavaScript Ultimate Course</a>, <a href=\"https://couponscorpion.com/office-productivity/learn-microsoft-flow/\"><img alt=\"Learn Microsoft Flow\" class=\"ezlazyload\" data-ezsrc=\"https://couponscorpion.com/wp-content/uploads/thumbs_dir/learn-microsoft-flow-6y5xp9pob3xnrdtn2i02sl9zr10pf87pip3y33uw9ne.jpg\" ezimgfmt=\"rs rscb100 src ng ngcb100\" height=\"90\" src=\"data:image/svg+xml,%3Csvg xmlns=%22http://www.w3.org/2000/svg%22 width=%22123%22 height=%2290%22%3E%3C/svg%3E\" width=\"123\"/></a>, <a href=\"https://couponscorpion.com/office-productivity/learn-microsoft-flow/\">Learn Microsoft Flow</a>, <a href=\"https://couponscorpion.com/business/get-on-top-of-real-estate-business-with-facebook-ads-in-2021/\"><img alt=\"GET on TOP of Real Estate Business with Facebook Ads in 2021\" class=\"ezlazyload\" data-ezsrc=\"https://couponscorpion.com/wp-content/uploads/thumbs_dir/get-on-top-of-real-estate-business-with-facebook-ads-in-2021-71dss956snxieu2r0ep1fgsroxxzbap0pbxcyzivpwa.jpg\" ezimgfmt=\"rs rscb100 src ng ngcb100\" height=\"90\" src=\"data:image/svg+xml,%3Csvg xmlns=%22http://www.w3.org/2000/svg%22 width=%22123%22 height=%2290%22%3E%3C/svg%3E\" width=\"123\"/></a>, <a href=\"https://couponscorpion.com/business/get-on-top-of-real-estate-business-with-facebook-ads-in-2021/\">GET on TOP of Real Estate Business with Facebook Ads in 2021</a>, <a href=\"https://couponscorpion.com/design/adobe-photoshop-cc-basic-photoshop-training/\"><img alt=\"Adobe Photoshop CC- Basic Photoshop training\" class=\"ezlazyload\" data-ezsrc=\"https://couponscorpion.com/wp-content/uploads/thumbs_dir/adobe-photoshop-cc-basic-photoshop-training-71kkcraw0u0onkw1jr4nezjkj7jnyz9sc2cj6r9irx6.jpg\" ezimgfmt=\"rs rscb100 src ng ngcb100\" height=\"90\" src=\"data:image/svg+xml,%3Csvg xmlns=%22http://www.w3.org/2000/svg%22 width=%22123%22 height=%2290%22%3E%3C/svg%3E\" width=\"123\"/></a>, <a href=\"https://couponscorpion.com/design/adobe-photoshop-cc-basic-photoshop-training/\">Adobe Photoshop CC- Basic Photoshop training</a>, <a href=\"https://couponscorpion.com/office-productivity/zero-to-hero-in-microsoft-excel-complete-excel-guide-2021/\"><img alt=\"Zero to Hero in Microsoft Excel: Complete Excel guide 2021\" class=\"ezlazyload\" data-ezsrc=\"https://couponscorpion.com/wp-content/uploads/thumbs_dir/zero-to-hero-in-microsoft-excel-complete-excel-guide-2021-71kk7mfyoqzmk9ok7780sm6x1fit967wqndph07m3mi.jpg\" ezimgfmt=\"rs rscb100 src ng ngcb100\" height=\"90\" src=\"data:image/svg+xml,%3Csvg xmlns=%22http://www.w3.org/2000/svg%22 width=%22123%22 height=%2290%22%3E%3C/svg%3E\" width=\"123\"/></a>, <a href=\"https://couponscorpion.com/office-productivity/zero-to-hero-in-microsoft-excel-complete-excel-guide-2021/\">Zero to Hero in Microsoft Excel: Complete Excel guide 2021</a>, <a href=\"https://couponscorpion.com/marketing/instagram-business-mastery-2021/\"><img alt=\"Instagram Business Mastery 2021\" class=\"ezlazyload\" data-ezsrc=\"https://couponscorpion.com/wp-content/uploads/thumbs_dir/instagram-business-mastery-2021-6zwryp81t9g3x8dn1b8k4zo0wvsmwjnrvor55ra4mvu.jpg\" ezimgfmt=\"rs rscb100 src ng ngcb100\" height=\"90\" src=\"data:image/svg+xml,%3Csvg xmlns=%22http://www.w3.org/2000/svg%22 width=%22123%22 height=%2290%22%3E%3C/svg%3E\" width=\"123\"/></a>, <a href=\"https://couponscorpion.com/marketing/instagram-business-mastery-2021/\">Instagram Business Mastery 2021</a>, <a href=\"https://couponscorpion.com/development/python-programming-beginner-to-advance-machine-learning/\"><img alt=\"Python Programming Beginner to Advance + Machine Learning\" class=\"ezlazyload\" data-ezsrc=\"https://couponscorpion.com/wp-content/uploads/thumbs_dir/python-programming-beginner-to-advance-machine-learning-71kjrujszoe81uxghaqx76hxh4xvwpfeukkiozxmuvu.jpg\" ezimgfmt=\"rs rscb100 src ng ngcb100\" height=\"90\" src=\"data:image/svg+xml,%3Csvg xmlns=%22http://www.w3.org/2000/svg%22 width=%22123%22 height=%2290%22%3E%3C/svg%3E\" width=\"123\"/></a>, <a href=\"https://couponscorpion.com/development/python-programming-beginner-to-advance-machine-learning/\">Python Programming Beginner to Advance + Machine Learning</a>, <a href=\"https://couponscorpion.com/development/learn-html5-in-depth-with-real-world-examples/\"><img alt=\"Learn Html5 In-depth – With Real-world Examples\" class=\"ezlazyload\" data-ezsrc=\"https://couponscorpion.com/wp-content/uploads/thumbs_dir/learn-html5-in-depth-with-real-world-examples-708egat4ny48cuf6cl0m0nlz47peyf7o9hd351176qi.jpg\" ezimgfmt=\"rs rscb100 src ng ngcb100\" height=\"90\" src=\"data:image/svg+xml,%3Csvg xmlns=%22http://www.w3.org/2000/svg%22 width=%22123%22 height=%2290%22%3E%3C/svg%3E\" width=\"123\"/></a>, <a href=\"https://couponscorpion.com/development/learn-html5-in-depth-with-real-world-examples/\">Learn Html5 In-depth – With Real-world Examples</a>, <a href=\"https://couponscorpion.com/category/100-off-coupons/\">100% Off Coupons</a>, <a href=\"https://couponscorpion.com/category/free100-discount/\">Free Courses</a>, <a href=\"https://couponscorpion.com/category/business/\">Business</a>, <a href=\"https://couponscorpion.com/category/design/\">Design</a>, <a href=\"https://couponscorpion.com/category/development/\">Development</a>, <a href=\"https://couponscorpion.com/category/finance-accounting/\">Finance &amp; Accounting</a>, <a href=\"https://couponscorpion.com/category/health-fitness/\">Health &amp; Fitness</a>, <a href=\"https://couponscorpion.com/category/it-software/\">IT &amp; Software</a>, <a href=\"https://couponscorpion.com/category/lifestyle/\">Lifestyle</a>, <a href=\"https://couponscorpion.com/category/marketing/\">Marketing</a>, <a href=\"https://couponscorpion.com/category/music/\">Music</a>, <a href=\"https://couponscorpion.com/category/office-productivity/\">Office Productivity</a>, <a href=\"https://couponscorpion.com/category/personal-development/\">Personal Development</a>, <a href=\"https://couponscorpion.com/category/photography-video/\">Photography &amp; Video</a>, <a href=\"https://couponscorpion.com/category/teaching-academics/\">Teaching &amp; Academics</a>, <a href=\"https://www.ezoic.com/what-is-ezoic/\" rel=\"noopener noreferrer nofollow\" style=\"cursor:pointer\" target=\"_blank\"><img alt=\"Ezoic\" loading=\"lazy\" src=\"https://go.ezoic.net/utilcave_com/img/ezoic.png\" style=\"height:12px!important;padding:2px!important;border:0!important;cursor:pointer!important;width:58px!important;margin:0!important;box-sizing:content-box!important\"/></a>, <a href=\"https://couponscorpion.com/category/free100-discount/\">100% free Udemy coupons</a>, <a href=\"https://couponscorpion.com/contact/\">Contact</a>, <a href=\"https://couponscorpion.com/privacy-policy/\">Privacy Policy</a>, <a href=\"https://couponscorpion.com/affiliate-disclosure/\">Disclosure</a>, <a href=\"https://couponscorpion.com/recommends/hosting\" rel=\"noopener\" target=\"_blank\">Hosting</a>, <a href=\"https://couponscorpion.com/submit-a-coupon/\" rel=\"nofollow\">Submit a Coupon</a>, <a href=\"https://themescorpion.com/\" rel=\"nofollow\" target=\"_blank\">WordPress Theme Discounts</a>, <a href=\"https://couponscorpion.com/blog/\">Blog</a>, <a href=\"https://couponscorpion.com/about/\" rel=\"nofollow\">About</a>, <a href=\"https://couponscorpion.com/android\" rel=\"noopener\" target=\"_blank\"><img alt=\"Google Play\" class=\"ezlazyload\" data-ezsrc=\"https://couponscorpion.com/wp-content/uploads/2017/11/google-play-badge.png\" ezimgfmt=\"rs rscb100 src ng ngcb100\" height=\"59\" src=\"data:image/svg+xml,%3Csvg xmlns=%22http://www.w3.org/2000/svg%22 width=%22200%22 height=%2259%22%3E%3C/svg%3E\" width=\"200\"/></a>, <a href=\"https://www.youtube.com/watch?v=BMANe51SZlE\" style=\"color:#000\">Best Free Udemy Courses September 2021</a>, <a href=\"https://couponscorpion.com/\">Coupon Scorpion</a>, <a class=\"logo_image_mobile\" href=\"https://couponscorpion.com\"><img alt=\"Coupon Scorpion\" class=\"ezlazyload\" data-ezsrc=\"https://couponscorpion.com/wp-content/uploads/2020/11/coupon-scorpion-logo-v5-mobile.png\" ezimgfmt=\"rs rscb100 src ng ngcb100\" height=\"50\" src=\"data:image/svg+xml,%3Csvg xmlns=%22http://www.w3.org/2000/svg%22 width=%22157%22 height=%2240%22%3E%3C/svg%3E\" width=\"160\"/></a>, <a href=\"https://couponscorpion.com\"><img alt=\"Logo\" class=\"ezlazyload\" data-ezsrc=\"https://couponscorpion.com/wp-content/uploads/2020/03/coupon-scorpion-logo-v5-255.png\" ezimgfmt=\"rs rscb100 src ng ngcb100\" height=\"45\" id=\"mobpanelimg\" src=\"data:image/svg+xml,%3Csvg xmlns=%22http://www.w3.org/2000/svg%22 width=%22255%22 height=%2265%22%3E%3C/svg%3E\" width=\"150\"/></a>]\n"
     ]
    }
   ],
   "source": [
    "    import requests\n",
    "    from bs4 import BeautifulSoup\n",
    "    import re\n",
    "    import json\n",
    "    import base64\n",
    " \n",
    "    # url of the website\n",
    "    headers = {'User-Agent': 'Mozilla/5.0 (X11; Linux x86_64) '\\\n",
    "           'AppleWebKit/537.36 (KHTML, like Gecko) '\\\n",
    "           'Chrome/75.0.3770.80 Safari/537.36'}\n",
    "    docs = input(\"Enter URL: \")\n",
    "    \n",
    " \n",
    "    # getting response object\n",
    "    res = requests.get(docs, headers=headers)\n",
    " \n",
    "    # Initialize the object with the document\n",
    "    soup = BeautifulSoup(res.content, \"html.parser\")\n",
    "    urls=(soup.find_all(\"a\"))\n",
    "    print(urls)"
   ]
  },
  {
   "cell_type": "code",
   "execution_count": null,
   "metadata": {},
   "outputs": [],
   "source": []
  }
 ],
 "metadata": {
  "kernelspec": {
   "display_name": "Python 3",
   "language": "python",
   "name": "python3"
  },
  "language_info": {
   "codemirror_mode": {
    "name": "ipython",
    "version": 3
   },
   "file_extension": ".py",
   "mimetype": "text/x-python",
   "name": "python",
   "nbconvert_exporter": "python",
   "pygments_lexer": "ipython3",
   "version": "3.8.2"
  }
 },
 "nbformat": 4,
 "nbformat_minor": 4
}
