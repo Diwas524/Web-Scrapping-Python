{
 "cells": [
  {
   "cell_type": "code",
   "execution_count": null,
   "metadata": {},
   "outputs": [],
   "source": [
    "#!pip3 install beautifulsoup4"
   ]
  },
  {
   "cell_type": "code",
   "execution_count": 38,
   "metadata": {
    "scrolled": true
   },
   "outputs": [
    {
     "name": "stdout",
     "output_type": "stream",
     "text": [
      "Enter URL: https://freebiesglobal.com/arabic-alphabet-for-beginners-3\n",
      "\"https://www.udemy.com/course/arabic-alphabet-for-beginners/?couponCode=ARABIC_LANGUAGE\" rel=\"nofollow\" \n",
      "Your post is published on https://allcoursefree.com/2021/08/17/arabic-alphabet-for-beginners/\n"
     ]
    }
   ],
   "source": [
    "import requests\n",
    "from bs4 import BeautifulSoup\n",
    "import re\n",
    "import requests\n",
    "import json\n",
    "import base64\n",
    " \n",
    "# url of the website\n",
    "doc = input(\"Enter URL: \")\n",
    " \n",
    "# getting response object\n",
    "res = requests.get(doc)\n",
    " \n",
    "# Initialize the object with the document\n",
    "soup = BeautifulSoup(res.content, \"html.parser\")\n",
    "\n",
    "#Title Text \n",
    "title = soup.title.text\n",
    "title=(str(title).replace(\"[100% Discount]\", \"\"))\n",
    "\n",
    "\n",
    "#Featured Image Link\n",
    "q=(soup.find_all(\"img\")[1]) # 0th is site logo & 1st is featured image\n",
    "ss = re.findall('data-src=(.+)height=', str(q))\n",
    "a=(str(ss).replace(\"['\", \"\")).replace(\"']\", \"\")\n",
    "a= \"<img src=\"+a+\" alt=\"+title+\">\"\n",
    "\n",
    "\n",
    "#Free Course Redirection link\n",
    "urls=(soup.find_all(\"a\"))\n",
    "#urls=(soup.find_all(\"Get this Deal </a>\"))  #we need 68th link\n",
    "for items in urls:\n",
    "    check= str(items)\n",
    "    if \"re_track_btn\" in check:\n",
    "        ur=check\n",
    "        break\n",
    "ssu = re.findall('href=(.+)target=', str(ur))\n",
    "aa=(str(ssu).replace(\"['\", \"\")).replace(\"']\", \"\")\n",
    "        \n",
    "    \n",
    "# Get the whole body tag\n",
    "tag = soup.body\n",
    "import re as regex\n",
    "c=0\n",
    "w=str(a)+\"\\n\"\n",
    "#Print each string recursively\n",
    "for string in tag.strings:\n",
    "    #End of text extraction from body\n",
    "    if \"Report Expiry\" in string:\n",
    "        c=300\n",
    "    if c==300:\n",
    "        break\n",
    "        \n",
    "    #start of text extraction from body\n",
    "    if \"Description\" in string:\n",
    "        c=c+1\n",
    "    if c==2: #we get 2 Description, start scrapping from 2nd description\n",
    "        if string.rstrip():\n",
    "            w=w+(string+\"\\n\")\n",
    "w=w + \"\\n\" + \"<a href=\"+aa+\"><button style=\\\"background-color: #008CBA;\\\">GET COUPON CODE</button></a>\"\n",
    "print(aa)\n",
    "user = '#'\n",
    "pythonapp = '#'\n",
    "url = 'https://allcoursefree.com/wp-json/wp/v2'\n",
    "credentials = user + ':' + pythonapp\n",
    "\n",
    "token = base64.b64encode(credentials.encode())\n",
    "\n",
    "headers = {'Authorization': 'Basic ' + token.decode('utf-8')}\n",
    "post = {\n",
    "        'title': title,\n",
    "       \n",
    "        'status': 'publish',\n",
    "        'content': w,\n",
    "       \n",
    "        \n",
    "        'format': 'standard'\n",
    "        }\n",
    "r = requests.post(url + '/posts', headers=headers, json=post)\n",
    "print('Your post is published on ' + json.loads(r.content)['link'])"
   ]
  }
 ],
 "metadata": {
  "kernelspec": {
   "display_name": "Python 3",
   "language": "python",
   "name": "python3"
  },
  "language_info": {
   "codemirror_mode": {
    "name": "ipython",
    "version": 3
   },
   "file_extension": ".py",
   "mimetype": "text/x-python",
   "name": "python",
   "nbconvert_exporter": "python",
   "pygments_lexer": "ipython3",
   "version": "3.8.2"
  }
 },
 "nbformat": 4,
 "nbformat_minor": 4
}
