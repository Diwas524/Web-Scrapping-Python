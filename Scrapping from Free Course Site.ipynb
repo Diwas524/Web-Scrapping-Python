{
 "cells": [
  {
   "cell_type": "code",
   "execution_count": 3,
   "metadata": {},
   "outputs": [],
   "source": [
    "#!pip3 install beautifulsoup4"
   ]
  },
  {
   "cell_type": "code",
   "execution_count": 73,
   "metadata": {
    "scrolled": true
   },
   "outputs": [
    {
     "name": "stdout",
     "output_type": "stream",
     "text": [
      "<img alt=\"Beat Procrastination in Turbulent Covid Era\" class=\"lazyimages\" data-src=\"https://media.freebiesglobal.com/thumbs_dir/beat-procrastination-in-turbulent-covid-era-1-pbosbcncuog1q6nyzhph123lfgiv97t0mavlvq1muy.jpg\" height=\"500\" src=\"https://freebiesglobal.com/wp-content/themes/fsworld/images/default/blank.gif\" width=\"500\"/>\n",
      "\n",
      "[100% Discount] Beat Procrastination in Turbulent Covid Era\n",
      "\n",
      "<a class=\"re_track_btn btn_offer_block\" href=\"https://www.udemy.com/course/beat-procrastination-in-turbulent-covid-era/?couponCode=9A86A262EBC89CA1FA93\" rel=\"nofollow\" target=\"_blank\">\n",
      "Get this Deal </a>\n",
      "\n",
      "\n",
      "Description\n",
      "\n",
      "Procrastination is one of the principle boundaries obstructing you from getting up, settling on the correct choices, and carrying on with the fantasy life you’ve considered.\n",
      "\n",
      "Ongoing investigations have shown that individuals regret more the things they haven’t done than the things they have done. Furthermore, sensations of disappointment and blame coming about because of botched freedoms will in general remain with individuals any longer.\n",
      "\n",
      "Some of the time every one of our chances appear to be on our fingertips, however we can’t contact them. At the point when you delay, you sit around idly that you could be putting resources into something significant. On the off chance that you can conquer this savage foe, you will actually want to achieve more and in improving use the potential that life has to bring to the table.\n",
      "\n",
      "Procrastination is something that we as a whole come to arrangement with eventually. We may find that there is some sort of undertaking that we would prefer not to manage or we may simply feel we have the opportunity to do it later. Obviously, things consistently sneak up on us in the near future, and we scramble around to complete everything.\n",
      "\n",
      "This is something impermanent for the vast majority, something they do once in a while and is anything but a propensity. Then again, slackers will frequently manage these issues each time that they have something to do.\n",
      "\n",
      "This course is going to spend some time looking at what a procrastinator is and some of the main signs to look for when it comes to determining if you or someone else is considered a procrastinator.\n",
      "\n",
      "The course will talk about certain things, for example, evading terrible undertakings, rationalizing or simply surrendering on the grounds that we believe we are not capable. These are everything that will make the slacker put off their work, instead of attempting to complete it.\n",
      "\n",
      "Who this course is for:\n",
      "\n",
      "Students, Employees, Businessmen, Home Makers, Senior Citizens and anyone in General\n",
      "\n"
     ]
    }
   ],
   "source": [
    "import requests\n",
    "from bs4 import BeautifulSoup\n",
    " \n",
    "# url of the website\n",
    "doc = \"https://freebiesglobal.com/beat-procrastination-in-turbulent-covid-era-3\"\n",
    " \n",
    "# getting response object\n",
    "res = requests.get(doc)\n",
    " \n",
    "# Initialize the object with the document\n",
    "soup = BeautifulSoup(res.content, \"html.parser\")\n",
    "\n",
    "#Featured Image Link\n",
    "print(soup.find_all(\"img\")[1]) # 0th is site logo & 1st is featured image\n",
    "\n",
    "#Title Text \n",
    "title = soup.title.text\n",
    "print(\"\\n\"+title+\"\\n\")\n",
    "\n",
    "#Free Course Redirection link\n",
    "print(soup.find_all(\"a\")[67])  #we need 68th link\n",
    "print(\"\\n\")\n",
    "        \n",
    "    \n",
    "# Get the whole body tag\n",
    "tag = soup.body\n",
    "import re as regex\n",
    "c=0\n",
    "#Print each string recursively\n",
    "for string in tag.strings:\n",
    "    #End of text extraction from body\n",
    "    if \"Report Expiry\" in string:\n",
    "        c=300\n",
    "    if c==300:\n",
    "        break\n",
    "        \n",
    "    #start of text extraction from body\n",
    "    if \"Description\" in string:\n",
    "        c=c+1\n",
    "    if c==2: #we get 2 Description, start scrapping from 2nd description\n",
    "        if string.rstrip():\n",
    "            print(string+\"\\n\")"
   ]
  },
  {
   "cell_type": "markdown",
   "metadata": {},
   "source": []
  }
 ],
 "metadata": {
  "kernelspec": {
   "display_name": "Python 3",
   "language": "python",
   "name": "python3"
  },
  "language_info": {
   "codemirror_mode": {
    "name": "ipython",
    "version": 3
   },
   "file_extension": ".py",
   "mimetype": "text/x-python",
   "name": "python",
   "nbconvert_exporter": "python",
   "pygments_lexer": "ipython3",
   "version": "3.8.2"
  }
 },
 "nbformat": 4,
 "nbformat_minor": 4
}
